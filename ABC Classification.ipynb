{
 "cells": [
  {
   "cell_type": "markdown",
   "metadata": {},
   "source": [
    "# ABC Classification Syncreon Logistica\n",
    "# A = 85% B = 10% C = 5% D = 0%"
   ]
  },
  {
   "cell_type": "code",
   "execution_count": 4,
   "metadata": {},
   "outputs": [],
   "source": [
    "import pandas as pd\n",
    "import csv\n",
    "import numpy as np\n",
    "from pandas import *"
   ]
  },
  {
   "cell_type": "code",
   "execution_count": 218,
   "metadata": {
    "scrolled": false
   },
   "outputs": [],
   "source": [
    "#geral = open('mes1.csv')\n",
    "df1 = pd.read_csv(\"junho.csv\", encoding='latin-1', low_memory=False)\n",
    "df2 = pd.read_csv(\"julho.csv\", encoding='latin-1', low_memory=False)\n",
    "df3 = pd.read_csv(\"agosto.csv\", encoding='latin-1', low_memory=False)\n",
    "dfprod = pd.read_csv(\"products.csv\", encoding='latin-1', low_memory=False)\n",
    "\n",
    "dfgeral = pd.concat([df1,df2,df3])\n",
    "dfgeral\n",
    "\n",
    "dfgeral2 = dfgeral.drop(dfgeral.columns[[0,1,2,3,4,5,7,9,10,11,12,13,14,15,16,17,18,19,20,21,22,23,24,25,26,27,28,29,30,31,32,33,34,35,36,37,38,39,40,41,42,43,44,45,46,47,48,51,52,53]], axis=1)\n",
    "dfgeral2\n",
    "dfpivot = dfgeral2.pivot_table(index='PartNo', aggfunc='sum')\n",
    "dfpivot\n",
    "\n",
    "dftotal = dfpivot.sort_values(['Qty'], ascending=[0])\n",
    "dftotal\n",
    "\n",
    "dfprod.rename(columns={'Material Part No':'PartNo'}, inplace=True)\n",
    "\n",
    "dftotal2 = pd.merge(dftotal, dfprod[['PartNo','Description']], on='PartNo', how='left')\n",
    "dftotal2\n",
    "\n",
    "totalout = dftotal2['Qty'].sum()\n",
    "#totalout\n",
    "\n",
    "dftotal2['Percentual'] = (np.true_divide(dftotal2['Qty'], totalout)*100).round(2).astype(float)\n",
    "#dftotal2['Percentual']\n",
    "dftotal2\n",
    "dftotal2['Acomulado'] = np.cumsum(dftotal2['Percentual']).astype(float)\n",
    "dftotal2\n",
    "#ok\n",
    "\n",
    "new_df = dfprod['PartNo']\n",
    "new_df\n",
    "\n",
    "\n",
    "\n",
    "new_df = pd.merge(new_df, dfprod[['PartNo','Description']], on='PartNo', how='left')\n",
    "new_df = pd.merge(new_df, dftotal2[['PartNo','Qty']], on='PartNo', how='left')\n",
    "new_df = pd.merge(new_df, dftotal2[['PartNo','Percentual']], on='PartNo', how='left')\n",
    "new_df = pd.merge(new_df, dftotal2[['PartNo','Acomulado']], on='PartNo', how='left')\n",
    "new_df = pd.merge(new_df, dfprod[['PartNo','Units Per Pack']], on='PartNo', how='left')\n",
    "new_df = pd.merge(new_df, dfprod[['PartNo','Units Per Pallet']], on='PartNo', how='left')\n",
    "new_df = pd.merge(new_df, dfprod[['PartNo','Product Category']], on='PartNo', how='left')\n",
    "new_df = new_df.sort_values(['Percentual'], ascending=[0])\n",
    "\n",
    "new_df['Curva'] = ''\n",
    "new_df['Consumption / Day'] = (new_df['Qty'] / 90).round(0)\n",
    "new_df['Consumption Pall / Day'] = (new_df['Qty'] / new_df['Units Per Pallet']).round(0)\n",
    "\n",
    "new_df['Qty'].fillna(0, inplace=True)\n",
    "new_df['Percentual'].fillna(0, inplace=True)\n",
    "new_df['Acomulado'].fillna(0, inplace=True)\n",
    "\n",
    "new_df.loc[(new_df.Acomulado <= 85), 'Curva'] = 'A'\n",
    "new_df.loc[(new_df.Acomulado > 85) & (new_df.Acomulado <= 95), 'Curva'] = 'B'\n",
    "new_df.loc[(new_df.Acomulado > 95) & (new_df.Acomulado <= 100), 'Curva'] = 'C'\n",
    "new_df.loc[(new_df.Percentual == 0 ) & (new_df.Acomulado == 0 ), 'Curva'] = 'D'\n",
    "\n",
    "#delet_specific_value_row\n",
    "#deletarapc = new_df[ new_df['PartNo'] == 'MQ6G2BR/A' ].index\n",
    "#new_df.drop(deletarapc , inplace=True)\n",
    "\n",
    "#new_df\n"
   ]
  },
  {
   "cell_type": "code",
   "execution_count": 209,
   "metadata": {},
   "outputs": [],
   "source": [
    "new_df.to_csv('testecurva.csv')"
   ]
  }
 ],
 "metadata": {
  "kernelspec": {
   "display_name": "Python 3",
   "language": "python",
   "name": "python3"
  },
  "language_info": {
   "codemirror_mode": {
    "name": "ipython",
    "version": 3
   },
   "file_extension": ".py",
   "mimetype": "text/x-python",
   "name": "python",
   "nbconvert_exporter": "python",
   "pygments_lexer": "ipython3",
   "version": "3.7.3"
  }
 },
 "nbformat": 4,
 "nbformat_minor": 2
}
